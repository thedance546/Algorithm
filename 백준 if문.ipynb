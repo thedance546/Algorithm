{
 "cells": [
  {
   "cell_type": "code",
   "execution_count": 9,
   "id": "066c6691",
   "metadata": {},
   "outputs": [
    {
     "name": "stdout",
     "output_type": "stream",
     "text": [
      "10 2\n",
      ">\n"
     ]
    }
   ],
   "source": [
    "#1330\n",
    "\n",
    "A,B=map(int,input().split())\n",
    "\n",
    "if A>B:\n",
    "    print('>')\n",
    "elif A<B:\n",
    "    print('<')\n",
    "else:\n",
    "    print('==')"
   ]
  },
  {
   "cell_type": "code",
   "execution_count": 11,
   "id": "1b8f9e31",
   "metadata": {},
   "outputs": [
    {
     "name": "stdout",
     "output_type": "stream",
     "text": [
      "88\n",
      "B\n"
     ]
    }
   ],
   "source": [
    "#9498\n",
    "\n",
    "n=input()\n",
    "n=int(n)\n",
    "\n",
    "if n>89:\n",
    "    print('A')\n",
    "elif n>79:\n",
    "    print('B')\n",
    "elif n>69:\n",
    "    print('C')\n",
    "elif n>59:\n",
    "    print('D')\n",
    "else:\n",
    "    print('F')"
   ]
  },
  {
   "cell_type": "code",
   "execution_count": 18,
   "id": "c2db5097",
   "metadata": {},
   "outputs": [
    {
     "name": "stdout",
     "output_type": "stream",
     "text": [
      "2000\n",
      "1\n"
     ]
    }
   ],
   "source": [
    "#2753\n",
    "\n",
    "n=int(input())\n",
    "\n",
    "if n%4==0 and n%100!=0 or n%400==0:\n",
    "    print(1)\n",
    "else:\n",
    "    print(0)"
   ]
  },
  {
   "cell_type": "code",
   "execution_count": 24,
   "id": "38b1425d",
   "metadata": {},
   "outputs": [
    {
     "name": "stdout",
     "output_type": "stream",
     "text": [
      "4 4\n",
      "1\n"
     ]
    }
   ],
   "source": [
    "#14681\n",
    "\n",
    "x=int(input())\n",
    "y=int(input())\n",
    "\n",
    "if x>0 and y>0:\n",
    "    print(1)\n",
    "elif x<0 and y>0:\n",
    "    print(2)\n",
    "elif x<0 and y<0:    \n",
    "    print(3)\n",
    "else:   \n",
    "    print(4)"
   ]
  },
  {
   "cell_type": "code",
   "execution_count": 29,
   "id": "51e25577",
   "metadata": {},
   "outputs": [
    {
     "name": "stdout",
     "output_type": "stream",
     "text": [
      "0 30\n",
      "23 45\n"
     ]
    }
   ],
   "source": [
    "#2884\n",
    "\n",
    "H,M=map(int,input().split())\n",
    "\n",
    "if M>44:\n",
    "    print(H,M-45)\n",
    "elif H>0 and M<45:\n",
    "    print(H-1,M+15)\n",
    "else:\n",
    "    print(23,M+15)"
   ]
  }
 ],
 "metadata": {
  "kernelspec": {
   "display_name": "Python 3",
   "language": "python",
   "name": "python3"
  },
  "language_info": {
   "codemirror_mode": {
    "name": "ipython",
    "version": 3
   },
   "file_extension": ".py",
   "mimetype": "text/x-python",
   "name": "python",
   "nbconvert_exporter": "python",
   "pygments_lexer": "ipython3",
   "version": "3.8.8"
  }
 },
 "nbformat": 4,
 "nbformat_minor": 5
}
