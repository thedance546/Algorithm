{
 "cells": [
  {
   "cell_type": "code",
   "execution_count": 8,
   "id": "0ff4c7ff",
   "metadata": {},
   "outputs": [
    {
     "name": "stdout",
     "output_type": "stream",
     "text": [
      "2\n",
      "2 * 1 = 2\n",
      "2 * 2 = 4\n",
      "2 * 3 = 6\n",
      "2 * 4 = 8\n",
      "2 * 5 = 10\n",
      "2 * 6 = 12\n",
      "2 * 7 = 14\n",
      "2 * 8 = 16\n",
      "2 * 9 = 18\n"
     ]
    }
   ],
   "source": [
    "#2739\n",
    "\n",
    "N=int(input())\n",
    "\n",
    "for i in range(1,10):\n",
    "    print(N,'*',i,'=',N*i)"
   ]
  },
  {
   "cell_type": "code",
   "execution_count": 10,
   "id": "18b236dc",
   "metadata": {},
   "outputs": [
    {
     "name": "stdout",
     "output_type": "stream",
     "text": [
      "5\n",
      "1 1\n",
      "2\n",
      "2 3\n",
      "5\n",
      "5 4\n",
      "9\n",
      "8 5\n",
      "13\n",
      "1 1\n",
      "2\n"
     ]
    }
   ],
   "source": [
    "#10950\n",
    "\n",
    "T=int(input())\n",
    "\n",
    "for i in range(T):\n",
    "    A,B=map(int,input().split())\n",
    "    print(A+B)"
   ]
  },
  {
   "cell_type": "code",
   "execution_count": 16,
   "id": "3db274a9",
   "metadata": {},
   "outputs": [
    {
     "name": "stdout",
     "output_type": "stream",
     "text": [
      "3\n",
      "3\n"
     ]
    }
   ],
   "source": [
    "#8393\n",
    "\n",
    "n=int(input())\n",
    "\n",
    "add=0\n",
    "for i in range(1,n+1):\n",
    "    add = add + i\n",
    "    \n",
    "print(add)"
   ]
  },
  {
   "cell_type": "code",
   "execution_count": 20,
   "id": "3c7c23a2",
   "metadata": {},
   "outputs": [
    {
     "name": "stdout",
     "output_type": "stream",
     "text": [
      "5\n"
     ]
    },
    {
     "ename": "ValueError",
     "evalue": "not enough values to unpack (expected 2, got 0)",
     "output_type": "error",
     "traceback": [
      "\u001b[1;31m---------------------------------------------------------------------------\u001b[0m",
      "\u001b[1;31mValueError\u001b[0m                                Traceback (most recent call last)",
      "\u001b[1;32m<ipython-input-20-20ad2244f6c7>\u001b[0m in \u001b[0;36m<module>\u001b[1;34m\u001b[0m\n\u001b[0;32m      6\u001b[0m \u001b[1;33m\u001b[0m\u001b[0m\n\u001b[0;32m      7\u001b[0m \u001b[1;32mfor\u001b[0m \u001b[0mi\u001b[0m \u001b[1;32min\u001b[0m \u001b[0mrange\u001b[0m\u001b[1;33m(\u001b[0m\u001b[0mT\u001b[0m\u001b[1;33m)\u001b[0m\u001b[1;33m:\u001b[0m\u001b[1;33m\u001b[0m\u001b[1;33m\u001b[0m\u001b[0m\n\u001b[1;32m----> 8\u001b[1;33m     \u001b[0mA\u001b[0m\u001b[1;33m,\u001b[0m\u001b[0mB\u001b[0m \u001b[1;33m=\u001b[0m \u001b[0mmap\u001b[0m\u001b[1;33m(\u001b[0m\u001b[0mint\u001b[0m\u001b[1;33m,\u001b[0m \u001b[0msys\u001b[0m\u001b[1;33m.\u001b[0m\u001b[0mstdin\u001b[0m\u001b[1;33m.\u001b[0m\u001b[0mreadline\u001b[0m\u001b[1;33m(\u001b[0m\u001b[1;33m)\u001b[0m\u001b[1;33m.\u001b[0m\u001b[0msplit\u001b[0m\u001b[1;33m(\u001b[0m\u001b[1;33m)\u001b[0m\u001b[1;33m)\u001b[0m\u001b[1;33m\u001b[0m\u001b[1;33m\u001b[0m\u001b[0m\n\u001b[0m\u001b[0;32m      9\u001b[0m     \u001b[0mprint\u001b[0m\u001b[1;33m(\u001b[0m\u001b[0mA\u001b[0m\u001b[1;33m+\u001b[0m\u001b[0mB\u001b[0m\u001b[1;33m)\u001b[0m\u001b[1;33m\u001b[0m\u001b[1;33m\u001b[0m\u001b[0m\n",
      "\u001b[1;31mValueError\u001b[0m: not enough values to unpack (expected 2, got 0)"
     ]
    }
   ],
   "source": [
    "#15552\n",
    "\n",
    "import sys\n",
    "\n",
    "T = int(input())\n",
    "\n",
    "for i in range(T):\n",
    "    A,B = map(int, sys.stdin.readline().split())\n",
    "    print(A+B)\n",
    "    \n",
    "\n",
    "    #주피터에서는 sys.stdin동작 안함"
   ]
  },
  {
   "cell_type": "code",
   "execution_count": 22,
   "id": "9b70e0bf",
   "metadata": {},
   "outputs": [
    {
     "name": "stdout",
     "output_type": "stream",
     "text": [
      "5\n",
      "1\n",
      "2\n",
      "3\n",
      "4\n",
      "5\n"
     ]
    }
   ],
   "source": [
    "#2741\n",
    "\n",
    "N=int(input())\n",
    "\n",
    "for i in range(1,N+1):\n",
    "    print(i)"
   ]
  },
  {
   "cell_type": "code",
   "execution_count": 23,
   "id": "cd9e37d9",
   "metadata": {},
   "outputs": [
    {
     "name": "stdout",
     "output_type": "stream",
     "text": [
      "5\n",
      "5\n",
      "4\n",
      "3\n",
      "2\n",
      "1\n"
     ]
    }
   ],
   "source": [
    "#2742\n",
    "\n",
    "N=int(input())\n",
    "\n",
    "for i in range(N,0,-1):\n",
    "    print(i)"
   ]
  },
  {
   "cell_type": "code",
   "execution_count": 9,
   "id": "7d009a8a",
   "metadata": {},
   "outputs": [
    {
     "name": "stdout",
     "output_type": "stream",
     "text": [
      "5\n",
      "1 1\n",
      "Case #1: 1 + 1 = 2\n",
      "2 2\n",
      "Case #2: 2 + 2 = 4\n",
      "3 3\n",
      "Case #3: 3 + 3 = 6\n",
      "4 4\n",
      "Case #4: 4 + 4 = 8\n",
      "5 5\n",
      "Case #5: 5 + 5 = 10\n"
     ]
    }
   ],
   "source": [
    "#11022\n",
    "\n",
    "T=int(input())\n",
    "\n",
    "for i in range(1,T+1):\n",
    "    A,B=map(int,input().split())\n",
    "    print(f'Case #{i}: {A} + {B} = {A+B}')"
   ]
  },
  {
   "cell_type": "code",
   "execution_count": 10,
   "id": "d9345e10",
   "metadata": {},
   "outputs": [
    {
     "name": "stdout",
     "output_type": "stream",
     "text": [
      "5\n",
      "*\n",
      "**\n",
      "***\n",
      "****\n",
      "*****\n"
     ]
    }
   ],
   "source": [
    "#2438\n",
    "\n",
    "N=int(input())\n",
    "\n",
    "for i in range(1,N+1):\n",
    "    print('*'*i)"
   ]
  },
  {
   "cell_type": "code",
   "execution_count": 16,
   "id": "91d43e3f",
   "metadata": {},
   "outputs": [
    {
     "name": "stdout",
     "output_type": "stream",
     "text": [
      "5\n",
      "    *\n",
      "   **\n",
      "  ***\n",
      " ****\n",
      "*****\n",
      "5\n",
      "    *\n",
      "   **\n",
      "  ***\n",
      " ****\n",
      "*****\n"
     ]
    }
   ],
   "source": [
    "#2439\n",
    "\n",
    "N=int(input())\n",
    "\n",
    "for i in range(1,N+1):\n",
    "    a='*'*i\n",
    "    print(a.rjust(N))\n",
    "    \n",
    "\n",
    "N=int(input())\n",
    "\n",
    "for i in range(1,N+1):\n",
    "    print(('*'*i).rjust(N))    "
   ]
  },
  {
   "cell_type": "code",
   "execution_count": null,
   "id": "f81b90cc",
   "metadata": {},
   "outputs": [],
   "source": [
    "#10871\n",
    "\n",
    "N,X=map(int, input().split())\n",
    "\n",
    "A=list(map(int, input().split()))\n",
    "\n",
    "for i in range(0,N):\n",
    "    if A[i]<X:\n",
    "        print(A[i], end=' ')"
   ]
  }
 ],
 "metadata": {
  "kernelspec": {
   "display_name": "Python 3",
   "language": "python",
   "name": "python3"
  },
  "language_info": {
   "codemirror_mode": {
    "name": "ipython",
    "version": 3
   },
   "file_extension": ".py",
   "mimetype": "text/x-python",
   "name": "python",
   "nbconvert_exporter": "python",
   "pygments_lexer": "ipython3",
   "version": "3.8.8"
  }
 },
 "nbformat": 4,
 "nbformat_minor": 5
}
